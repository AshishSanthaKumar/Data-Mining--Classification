{
  "nbformat": 4,
  "nbformat_minor": 0,
  "metadata": {
    "colab": {
      "name": "GradientBoostingClassifier_ModelSelection2.ipynb",
      "provenance": [],
      "collapsed_sections": []
    },
    "kernelspec": {
      "display_name": "Python 3",
      "name": "python3"
    }
  },
  "cells": [
    {
      "cell_type": "code",
      "metadata": {
        "colab": {
          "base_uri": "https://localhost:8080/"
        },
        "id": "20gnngTBegk3",
        "outputId": "56d1070d-54ec-45f9-8d48-bb50b7ba188e"
      },
      "source": [
        "!pip install scikit-plot"
      ],
      "execution_count": null,
      "outputs": [
        {
          "output_type": "stream",
          "text": [
            "Collecting scikit-plot\n",
            "  Downloading https://files.pythonhosted.org/packages/7c/47/32520e259340c140a4ad27c1b97050dd3254fdc517b1d59974d47037510e/scikit_plot-0.3.7-py3-none-any.whl\n",
            "Requirement already satisfied: scikit-learn>=0.18 in /usr/local/lib/python3.6/dist-packages (from scikit-plot) (0.22.2.post1)\n",
            "Requirement already satisfied: scipy>=0.9 in /usr/local/lib/python3.6/dist-packages (from scikit-plot) (1.4.1)\n",
            "Requirement already satisfied: joblib>=0.10 in /usr/local/lib/python3.6/dist-packages (from scikit-plot) (1.0.0)\n",
            "Requirement already satisfied: matplotlib>=1.4.0 in /usr/local/lib/python3.6/dist-packages (from scikit-plot) (3.2.2)\n",
            "Requirement already satisfied: numpy>=1.11.0 in /usr/local/lib/python3.6/dist-packages (from scikit-learn>=0.18->scikit-plot) (1.19.4)\n",
            "Requirement already satisfied: kiwisolver>=1.0.1 in /usr/local/lib/python3.6/dist-packages (from matplotlib>=1.4.0->scikit-plot) (1.3.1)\n",
            "Requirement already satisfied: pyparsing!=2.0.4,!=2.1.2,!=2.1.6,>=2.0.1 in /usr/local/lib/python3.6/dist-packages (from matplotlib>=1.4.0->scikit-plot) (2.4.7)\n",
            "Requirement already satisfied: cycler>=0.10 in /usr/local/lib/python3.6/dist-packages (from matplotlib>=1.4.0->scikit-plot) (0.10.0)\n",
            "Requirement already satisfied: python-dateutil>=2.1 in /usr/local/lib/python3.6/dist-packages (from matplotlib>=1.4.0->scikit-plot) (2.8.1)\n",
            "Requirement already satisfied: six in /usr/local/lib/python3.6/dist-packages (from cycler>=0.10->matplotlib>=1.4.0->scikit-plot) (1.15.0)\n",
            "Installing collected packages: scikit-plot\n",
            "Successfully installed scikit-plot-0.3.7\n"
          ],
          "name": "stdout"
        }
      ]
    },
    {
      "cell_type": "code",
      "metadata": {
        "id": "Fhh5-4T-gGuG",
        "colab": {
          "base_uri": "https://localhost:8080/"
        },
        "outputId": "65812d5e-29a2-4bb4-c13b-a157ff3d2a95"
      },
      "source": [
        "import pandas as pd\n",
        "import numpy as np\n",
        "import matplotlib.pyplot as plt\n",
        "from sklearn.model_selection import train_test_split\n",
        "from sklearn.preprocessing import StandardScaler\n",
        "from sklearn.metrics import confusion_matrix, accuracy_score\n",
        "from sklearn.tree import DecisionTreeClassifier \n",
        "from sklearn.ensemble import AdaBoostClassifier\n",
        "from imblearn.over_sampling import SMOTE\n",
        "from sklearn.model_selection import RandomizedSearchCV\n",
        "import scikitplot as skplt"
      ],
      "execution_count": null,
      "outputs": [
        {
          "output_type": "stream",
          "text": [
            "/usr/local/lib/python3.6/dist-packages/sklearn/externals/six.py:31: FutureWarning: The module is deprecated in version 0.21 and will be removed in version 0.23 since we've dropped support for Python 2.7. Please rely on the official version of six (https://pypi.org/project/six/).\n",
            "  \"(https://pypi.org/project/six/).\", FutureWarning)\n",
            "/usr/local/lib/python3.6/dist-packages/sklearn/utils/deprecation.py:144: FutureWarning: The sklearn.neighbors.base module is  deprecated in version 0.22 and will be removed in version 0.24. The corresponding classes / functions should instead be imported from sklearn.neighbors. Anything that cannot be imported from sklearn.neighbors is now part of the private API.\n",
            "  warnings.warn(message, FutureWarning)\n"
          ],
          "name": "stderr"
        }
      ]
    },
    {
      "cell_type": "code",
      "metadata": {
        "id": "Uv0-WUUTgUBT"
      },
      "source": [
        "Data = pd.read_csv(\"/content/IEE520_Train.csv\")"
      ],
      "execution_count": null,
      "outputs": []
    },
    {
      "cell_type": "markdown",
      "metadata": {
        "id": "TtEI0tO5g5Ac"
      },
      "source": [
        "Dealing with missing values"
      ]
    },
    {
      "cell_type": "code",
      "metadata": {
        "colab": {
          "base_uri": "https://localhost:8080/"
        },
        "id": "r6PMSdT5gnUN",
        "outputId": "fe3c1884-4dbc-4940-c780-0438a7feaaf2"
      },
      "source": [
        "Data['x1'].value_counts()"
      ],
      "execution_count": null,
      "outputs": [
        {
          "output_type": "execute_result",
          "data": {
            "text/plain": [
              "0       7033\n",
              "1        822\n",
              "4        603\n",
              "None     578\n",
              "5        369\n",
              "2        320\n",
              "3        267\n",
              "6          5\n",
              "7          3\n",
              "Name: x1, dtype: int64"
            ]
          },
          "metadata": {
            "tags": []
          },
          "execution_count": 55
        }
      ]
    },
    {
      "cell_type": "code",
      "metadata": {
        "id": "j5q1nXSOgq0u"
      },
      "source": [
        "Data['x1']=Data['x1'].replace(\"None\",'8')"
      ],
      "execution_count": null,
      "outputs": []
    },
    {
      "cell_type": "code",
      "metadata": {
        "colab": {
          "base_uri": "https://localhost:8080/"
        },
        "id": "aSpRlzI_gtV7",
        "outputId": "936f4bc8-9b51-4263-e632-82eeb7f5607b"
      },
      "source": [
        "Data['x4'].value_counts()"
      ],
      "execution_count": null,
      "outputs": [
        {
          "output_type": "execute_result",
          "data": {
            "text/plain": [
              "1       1268\n",
              "4       1234\n",
              "5       1226\n",
              "8       1120\n",
              "3       1108\n",
              "2       1022\n",
              "7        613\n",
              "None     581\n",
              "10       479\n",
              "6        455\n",
              "9        338\n",
              "0        324\n",
              "12       185\n",
              "11        47\n",
              "Name: x4, dtype: int64"
            ]
          },
          "metadata": {
            "tags": []
          },
          "execution_count": 57
        }
      ]
    },
    {
      "cell_type": "code",
      "metadata": {
        "id": "HajCXV1RgvPS"
      },
      "source": [
        "Data['x4']=Data['x4'].replace(\"None\",'13')"
      ],
      "execution_count": null,
      "outputs": []
    },
    {
      "cell_type": "code",
      "metadata": {
        "colab": {
          "base_uri": "https://localhost:8080/"
        },
        "id": "lcrszth6gx-R",
        "outputId": "433b4190-e5b5-4bdf-8cca-414b3642569f"
      },
      "source": [
        "Data['x8'].value_counts()"
      ],
      "execution_count": null,
      "outputs": [
        {
          "output_type": "execute_result",
          "data": {
            "text/plain": [
              "0       8919\n",
              "20       197\n",
              "None     174\n",
              "15        80\n",
              "5         46\n",
              "3         46\n",
              "4         43\n",
              "7         32\n",
              "12        32\n",
              "36        29\n",
              "8         27\n",
              "2         25\n",
              "31        25\n",
              "10        24\n",
              "11        24\n",
              "16        23\n",
              "29        20\n",
              "24        20\n",
              "28        20\n",
              "21        18\n",
              "19        16\n",
              "18        15\n",
              "17        14\n",
              "13        13\n",
              "27        12\n",
              "22        11\n",
              "9          9\n",
              "32         9\n",
              "26         9\n",
              "35         8\n",
              "38         8\n",
              "23         6\n",
              "14         6\n",
              "37         6\n",
              "1          5\n",
              "6          5\n",
              "39         5\n",
              "33         5\n",
              "34         5\n",
              "25         5\n",
              "30         3\n",
              "40         1\n",
              "Name: x8, dtype: int64"
            ]
          },
          "metadata": {
            "tags": []
          },
          "execution_count": 59
        }
      ]
    },
    {
      "cell_type": "code",
      "metadata": {
        "id": "PVmywdEBgzoY"
      },
      "source": [
        "Data['x8']=Data['x8'].replace(\"None\",'41')"
      ],
      "execution_count": null,
      "outputs": []
    },
    {
      "cell_type": "code",
      "metadata": {
        "id": "vR2mELs4g2V7"
      },
      "source": [
        "X = Data.iloc[ :, : -1].values\n",
        "Y = Data.iloc[ :, -1].values"
      ],
      "execution_count": null,
      "outputs": []
    },
    {
      "cell_type": "markdown",
      "metadata": {
        "id": "z1lDz3pYhqCZ"
      },
      "source": [
        "Handling class imbalance"
      ]
    },
    {
      "cell_type": "code",
      "metadata": {
        "colab": {
          "base_uri": "https://localhost:8080/"
        },
        "id": "o30FRwpihkbp",
        "outputId": "b0a600b3-74c7-4e6b-adc1-7be0fe1e1cf9"
      },
      "source": [
        "np.unique(Y,return_counts=True)"
      ],
      "execution_count": null,
      "outputs": [
        {
          "output_type": "execute_result",
          "data": {
            "text/plain": [
              "(array([0, 1]), array([7580, 2420]))"
            ]
          },
          "metadata": {
            "tags": []
          },
          "execution_count": 62
        }
      ]
    },
    {
      "cell_type": "code",
      "metadata": {
        "colab": {
          "base_uri": "https://localhost:8080/"
        },
        "id": "SdI1tQpJhtiQ",
        "outputId": "cac6abe7-860d-41b6-ad27-a696cab6a285"
      },
      "source": [
        "X_new, y_new = SMOTE().fit_sample(X,Y)\n",
        "y_new = pd.DataFrame(y_new)\n",
        "X_new = pd.DataFrame(X_new)"
      ],
      "execution_count": null,
      "outputs": [
        {
          "output_type": "stream",
          "text": [
            "/usr/local/lib/python3.6/dist-packages/sklearn/utils/deprecation.py:87: FutureWarning: Function safe_indexing is deprecated; safe_indexing is deprecated in version 0.22 and will be removed in version 0.24.\n",
            "  warnings.warn(msg, category=FutureWarning)\n"
          ],
          "name": "stderr"
        }
      ]
    },
    {
      "cell_type": "code",
      "metadata": {
        "colab": {
          "base_uri": "https://localhost:8080/"
        },
        "id": "pqkgt0h_hxUq",
        "outputId": "74c9f766-8ffd-45e8-e9a9-ef84fd4be49c"
      },
      "source": [
        "np.unique(y_new,return_counts=True)"
      ],
      "execution_count": null,
      "outputs": [
        {
          "output_type": "execute_result",
          "data": {
            "text/plain": [
              "(array([0, 1]), array([7580, 7580]))"
            ]
          },
          "metadata": {
            "tags": []
          },
          "execution_count": 64
        }
      ]
    },
    {
      "cell_type": "code",
      "metadata": {
        "id": "FQR12fX7hzPn"
      },
      "source": [
        "X_train, X_test, y_train, y_test = train_test_split(X_new, y_new, test_size = 0.2, random_state = 1)"
      ],
      "execution_count": null,
      "outputs": []
    },
    {
      "cell_type": "markdown",
      "metadata": {
        "id": "7tlhlJxkh6-3"
      },
      "source": [
        "Randomized search CV"
      ]
    },
    {
      "cell_type": "code",
      "metadata": {
        "colab": {
          "base_uri": "https://localhost:8080/"
        },
        "id": "VCD3Sn4llFJ7",
        "outputId": "a416c945-52fe-4e00-efe1-d5db918dc218"
      },
      "source": [
        "from sklearn.ensemble import GradientBoostingClassifier\n",
        "\n",
        "model = GradientBoostingClassifier()\n",
        "model.fit(X_train, y_train)\n",
        "y_pred = model.predict(X_test)\n",
        "print('Default Gradient Boosting:\\n')\n",
        "print(f' Parameters:\\n {model}')\n",
        "print(f' Default Score: {model.score(X_test,y_test)}\\n')\n",
        "\n",
        "# print('Hyper-Tuning Gradient Boosting:\\n')\n",
        "\n",
        "# GB_params = {\"max_depth\": [15, 20, 35], \"min_samples_split\": [2, 5, 10], \"min_samples_leaf\": [3,5, 7 ]}\n",
        "\n",
        "\n",
        "\n",
        "# GB_grid = RandomizedSearchCV(estimator = GB, param_distributions = GB_params, n_iter = 100, cv = 3, verbose=2, random_state=42, n_jobs = -1)\n",
        "# GB_grid.fit(X_train, y_train)\n",
        "# GB = GB_grid.best_estimator_\n",
        "# print(f' Tuned Parameters:\\n {GB_grid.best_estimator_}')\n",
        "# print(f' Tuned Params: {GB_grid.best_params_}\\n')\n",
        "# grad_boost = GB.fit(X_train, y_train)\n",
        "# GB_preds = GB.predict(X_test)\n",
        "\n",
        "# GB_score = GB.score(X_test, y_test)\n",
        "# print(f' Hyper-Tuned Score: {GB_score}\\n')\n"
      ],
      "execution_count": null,
      "outputs": [
        {
          "output_type": "stream",
          "text": [
            "/usr/local/lib/python3.6/dist-packages/sklearn/ensemble/_gb.py:1454: DataConversionWarning: A column-vector y was passed when a 1d array was expected. Please change the shape of y to (n_samples, ), for example using ravel().\n",
            "  y = column_or_1d(y, warn=True)\n"
          ],
          "name": "stderr"
        },
        {
          "output_type": "stream",
          "text": [
            "Default Gradient Boosting:\n",
            "\n",
            " Parameters:\n",
            " GradientBoostingClassifier(ccp_alpha=0.0, criterion='friedman_mse', init=None,\n",
            "                           learning_rate=0.1, loss='deviance', max_depth=3,\n",
            "                           max_features=None, max_leaf_nodes=None,\n",
            "                           min_impurity_decrease=0.0, min_impurity_split=None,\n",
            "                           min_samples_leaf=1, min_samples_split=2,\n",
            "                           min_weight_fraction_leaf=0.0, n_estimators=100,\n",
            "                           n_iter_no_change=None, presort='deprecated',\n",
            "                           random_state=None, subsample=1.0, tol=0.0001,\n",
            "                           validation_fraction=0.1, verbose=0,\n",
            "                           warm_start=False)\n",
            " Default Score: 0.8977572559366754\n",
            "\n"
          ],
          "name": "stdout"
        }
      ]
    },
    {
      "cell_type": "code",
      "metadata": {
        "colab": {
          "background_save": true,
          "base_uri": "https://localhost:8080/"
        },
        "id": "oDTLInrSzZgF",
        "outputId": "831037ed-b613-4a28-cdf7-8fa51d865590"
      },
      "source": [
        "print('Hyper-Tuning Gradient Boosting:\\n')\n",
        "\n",
        "param_grid = {\"max_depth\": [15, 20, 35], \"min_samples_split\": [2, 5, 10], \"min_samples_leaf\": [3,5, 7], \"learning_rate\" : [1, 0.5, 0.25, 0.1, 0.05, 0.01], \"n_estimators\":[100,200]}\n",
        "\n",
        "\n",
        "\n",
        "search_1 = RandomizedSearchCV(estimator = model, param_distributions = param_grid, n_iter = 100, cv = 3, verbose=2, random_state=42, n_jobs = -1)\n",
        "search_1.fit(X_train, y_train)\n",
        "search_1.best_estimator_"
      ],
      "execution_count": null,
      "outputs": [
        {
          "output_type": "stream",
          "text": [
            "Hyper-Tuning Gradient Boosting:\n",
            "\n",
            "Fitting 3 folds for each of 100 candidates, totalling 300 fits\n"
          ],
          "name": "stdout"
        },
        {
          "output_type": "stream",
          "text": [
            "[Parallel(n_jobs=-1)]: Using backend LokyBackend with 2 concurrent workers.\n",
            "[Parallel(n_jobs=-1)]: Done  37 tasks      | elapsed:  6.1min\n",
            "[Parallel(n_jobs=-1)]: Done 158 tasks      | elapsed: 23.5min\n",
            "[Parallel(n_jobs=-1)]: Done 300 out of 300 | elapsed: 47.2min finished\n",
            "/usr/local/lib/python3.6/dist-packages/sklearn/ensemble/_gb.py:1454: DataConversionWarning: A column-vector y was passed when a 1d array was expected. Please change the shape of y to (n_samples, ), for example using ravel().\n",
            "  y = column_or_1d(y, warn=True)\n"
          ],
          "name": "stderr"
        },
        {
          "output_type": "execute_result",
          "data": {
            "text/plain": [
              "GradientBoostingClassifier(ccp_alpha=0.0, criterion='friedman_mse', init=None,\n",
              "                           learning_rate=0.1, loss='deviance', max_depth=15,\n",
              "                           max_features=None, max_leaf_nodes=None,\n",
              "                           min_impurity_decrease=0.0, min_impurity_split=None,\n",
              "                           min_samples_leaf=7, min_samples_split=10,\n",
              "                           min_weight_fraction_leaf=0.0, n_estimators=200,\n",
              "                           n_iter_no_change=None, presort='deprecated',\n",
              "                           random_state=None, subsample=1.0, tol=0.0001,\n",
              "                           validation_fraction=0.1, verbose=0,\n",
              "                           warm_start=False)"
            ]
          },
          "metadata": {
            "tags": []
          },
          "execution_count": 0
        }
      ]
    },
    {
      "cell_type": "code",
      "metadata": {
        "colab": {
          "base_uri": "https://localhost:8080/"
        },
        "id": "HbMfx7JgT4WN",
        "outputId": "500c39ec-5b97-4a0f-8d50-3e96de133335"
      },
      "source": [
        "search_1.best_estimator_"
      ],
      "execution_count": null,
      "outputs": [
        {
          "output_type": "execute_result",
          "data": {
            "text/plain": [
              "GradientBoostingClassifier(ccp_alpha=0.0, criterion='friedman_mse', init=None,\n",
              "                           learning_rate=0.1, loss='deviance', max_depth=15,\n",
              "                           max_features=None, max_leaf_nodes=None,\n",
              "                           min_impurity_decrease=0.0, min_impurity_split=None,\n",
              "                           min_samples_leaf=7, min_samples_split=10,\n",
              "                           min_weight_fraction_leaf=0.0, n_estimators=200,\n",
              "                           n_iter_no_change=None, presort='deprecated',\n",
              "                           random_state=None, subsample=1.0, tol=0.0001,\n",
              "                           validation_fraction=0.1, verbose=0,\n",
              "                           warm_start=False)"
            ]
          },
          "metadata": {
            "tags": []
          },
          "execution_count": 68
        }
      ]
    },
    {
      "cell_type": "code",
      "metadata": {
        "id": "kbLKZiAUjkga"
      },
      "source": [
        "y_pred = search_1.predict(X_test)"
      ],
      "execution_count": null,
      "outputs": []
    },
    {
      "cell_type": "code",
      "metadata": {
        "colab": {
          "base_uri": "https://localhost:8080/",
          "height": 312
        },
        "id": "oIwAK1SEUF9C",
        "outputId": "d6944da1-594a-4f08-c60b-d1fc0cf686b3"
      },
      "source": [
        "print('Confusion Matrix on test data: ')\n",
        "skplt.metrics.plot_confusion_matrix(y_test, y_pred)\n",
        "plt.show()"
      ],
      "execution_count": null,
      "outputs": [
        {
          "output_type": "stream",
          "text": [
            "Confusion Matrix on test data: \n"
          ],
          "name": "stdout"
        },
        {
          "output_type": "display_data",
          "data": {
            "image/png": "[encoded data removed]",
            "text/plain": [
              "<Figure size 432x288 with 2 Axes>"
            ]
          },
          "metadata": {
            "tags": [],
            "needs_background": "light"
          }
        }
      ]
    },
    {
      "cell_type": "code",
      "metadata": {
        "colab": {
          "base_uri": "https://localhost:8080/"
        },
        "id": "GulP9laSUY9s",
        "outputId": "eb6e9a14-1610-477d-b7ab-66689803d764"
      },
      "source": [
        "print('Accuracy on test data:')\n",
        "print(accuracy_score(y_test, y_pred) )"
      ],
      "execution_count": null,
      "outputs": [
        {
          "output_type": "stream",
          "text": [
            "Accuracy on test data:\n",
            "0.9093007915567283\n"
          ],
          "name": "stdout"
        }
      ]
    },
    {
      "cell_type": "code",
      "metadata": {
        "colab": {
          "base_uri": "https://localhost:8080/"
        },
        "id": "trC0jTRBUcEP",
        "outputId": "2e8cbaf6-7071-48a7-94bd-17ee81efaaa8"
      },
      "source": [
        "Balanced_error_rate = ((112/(112+1396))+(163/(163+1361)))/2\n",
        "print(Balanced_error_rate)"
      ],
      "execution_count": null,
      "outputs": [
        {
          "output_type": "stream",
          "text": [
            "0.09061296880330277\n"
          ],
          "name": "stdout"
        }
      ]
    },
    {
      "cell_type": "code",
      "metadata": {
        "id": "HrqULIt9Q5BQ"
      },
      "source": [
        ""
      ],
      "execution_count": null,
      "outputs": []
    }
  ]
}